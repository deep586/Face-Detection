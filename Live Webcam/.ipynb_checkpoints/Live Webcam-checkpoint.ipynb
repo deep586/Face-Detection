{
 "cells": [
  {
   "cell_type": "code",
   "execution_count": 2,
   "metadata": {},
   "outputs": [],
   "source": [
    "import cv2 as cv"
   ]
  },
  {
   "cell_type": "code",
   "execution_count": 3,
   "metadata": {},
   "outputs": [],
   "source": [
    "cam = cv.VideoCapture(0)     #0 means inbuilt camera\n",
    "\n",
    "while True:\n",
    "    _,frame = cam.read()     #'_' means neglecting the variable\n",
    "    frame = cv.flip(frame, 1)\n",
    "    \n",
    "    cv.imshow('Webcam',frame)\n",
    "    \n",
    "    key = cv.waitKey(30)    \n",
    "    \n",
    "    if key == 27:            #'27' escape key\n",
    "        break   "
   ]
  },
  {
   "cell_type": "code",
   "execution_count": 9,
   "metadata": {},
   "outputs": [
    {
     "data": {
      "text/plain": [
       "<function VideoCapture.release>"
      ]
     },
     "execution_count": 9,
     "metadata": {},
     "output_type": "execute_result"
    }
   ],
   "source": [
    "cam.release"
   ]
  },
  {
   "cell_type": "code",
   "execution_count": null,
   "metadata": {},
   "outputs": [],
   "source": []
  },
  {
   "cell_type": "code",
   "execution_count": 8,
   "metadata": {},
   "outputs": [],
   "source": [
    "face_classifier = cv.CascadeClassifier('haarcascade_frontalface_default.xml')\n",
    "cam = cv.VideoCapture(0)     #0 means inbuilt camera\n",
    "\n",
    "while True:\n",
    "    _,frame = cam.read()     #'_' means neglecting the variable\n",
    "    frame = cv.flip(frame, 1)\n",
    "    \n",
    "    gray = cv.cvtColor(frame, cv.COLOR_BGR2GRAY)\n",
    "    \n",
    "    faces = face_classifier.detectMultiScale(gray,1.4,4) \n",
    "    \n",
    "    for (x,y,w,h) in faces:\n",
    "        cv.rectangle(frame, (x,y), (x+w,y+h), (0,0,250) , 4)\n",
    "    \n",
    "    cv.imshow('Webcam',frame)\n",
    "    \n",
    "    key = cv.waitKey(30)    \n",
    "    \n",
    "    if key == 27:            #'27' escape key\n",
    "        break"
   ]
  }
 ],
 "metadata": {
  "kernelspec": {
   "display_name": "Python 3",
   "language": "python",
   "name": "python3"
  },
  "language_info": {
   "codemirror_mode": {
    "name": "ipython",
    "version": 3
   },
   "file_extension": ".py",
   "mimetype": "text/x-python",
   "name": "python",
   "nbconvert_exporter": "python",
   "pygments_lexer": "ipython3",
   "version": "3.8.5"
  }
 },
 "nbformat": 4,
 "nbformat_minor": 4
}
