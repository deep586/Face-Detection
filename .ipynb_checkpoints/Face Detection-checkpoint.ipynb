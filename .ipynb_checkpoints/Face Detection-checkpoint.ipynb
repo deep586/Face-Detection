{
 "cells": [
  {
   "cell_type": "code",
   "execution_count": 1,
   "metadata": {},
   "outputs": [],
   "source": [
    "import cv2 as cv"
   ]
  },
  {
   "cell_type": "code",
   "execution_count": 6,
   "metadata": {},
   "outputs": [],
   "source": [
    "img = cv.imread(\"monalisa.jpg\")\n",
    "\n",
    "gray = cv.cvtColor(img, cv.COLOR_BGR2GRAY)       #converting image to grayscale before detecting face"
   ]
  },
  {
   "cell_type": "code",
   "execution_count": 8,
   "metadata": {},
   "outputs": [
    {
     "data": {
      "text/plain": [
       "(1788, 1200)"
      ]
     },
     "execution_count": 8,
     "metadata": {},
     "output_type": "execute_result"
    }
   ],
   "source": [
    "gray.shape"
   ]
  },
  {
   "cell_type": "code",
   "execution_count": 9,
   "metadata": {},
   "outputs": [],
   "source": [
    "face_classifier = cv.CascadeClassifier('haarcascade_frontalface_default.xml')"
   ]
  },
  {
   "cell_type": "code",
   "execution_count": 10,
   "metadata": {},
   "outputs": [
    {
     "data": {
      "text/plain": [
       "<CascadeClassifier 00000243769A13F0>"
      ]
     },
     "execution_count": 10,
     "metadata": {},
     "output_type": "execute_result"
    }
   ],
   "source": [
    "face_classifier"
   ]
  },
  {
   "cell_type": "code",
   "execution_count": 13,
   "metadata": {},
   "outputs": [],
   "source": [
    "faces = face_classifier.detectMultiScale(gray,1.4,4)   #defines the coordinates of the face"
   ]
  },
  {
   "cell_type": "code",
   "execution_count": 17,
   "metadata": {},
   "outputs": [
    {
     "data": {
      "text/plain": [
       "array([[366, 273, 354, 354]], dtype=int32)"
      ]
     },
     "execution_count": 17,
     "metadata": {},
     "output_type": "execute_result"
    }
   ],
   "source": [
    "faces          #[x-coordinate, y-coordinate, width, height]"
   ]
  },
  {
   "cell_type": "code",
   "execution_count": 16,
   "metadata": {},
   "outputs": [
    {
     "data": {
      "text/plain": [
       "1"
      ]
     },
     "execution_count": 16,
     "metadata": {},
     "output_type": "execute_result"
    }
   ],
   "source": [
    "len(faces)     #1 face detected"
   ]
  },
  {
   "cell_type": "code",
   "execution_count": 21,
   "metadata": {},
   "outputs": [
    {
     "data": {
      "text/plain": [
       "array([[[ 97, 126, 110],\n",
       "        [ 69,  98,  83],\n",
       "        [ 69,  95,  82],\n",
       "        ...,\n",
       "        [114, 114, 120],\n",
       "        [103,  97, 108],\n",
       "        [ 87,  81,  92]],\n",
       "\n",
       "       [[102, 129, 113],\n",
       "        [ 85, 111,  97],\n",
       "        [ 84, 110,  97],\n",
       "        ...,\n",
       "        [ 82,  85,  90],\n",
       "        [ 84,  81,  90],\n",
       "        [ 74,  71,  80]],\n",
       "\n",
       "       [[ 72,  98,  82],\n",
       "        [152, 177, 163],\n",
       "        [ 87, 111,  99],\n",
       "        ...,\n",
       "        [ 76,  83,  86],\n",
       "        [105, 108, 112],\n",
       "        [ 84,  87,  92]],\n",
       "\n",
       "       ...,\n",
       "\n",
       "       [[134, 129, 138],\n",
       "        [ 89,  82,  89],\n",
       "        [ 91,  80,  88],\n",
       "        ...,\n",
       "        [ 52,  40,  46],\n",
       "        [ 77,  65,  71],\n",
       "        [ 52,  40,  46]],\n",
       "\n",
       "       [[121, 114, 121],\n",
       "        [169, 161, 168],\n",
       "        [ 58,  45,  53],\n",
       "        ...,\n",
       "        [ 43,  29,  35],\n",
       "        [ 19,   5,   9],\n",
       "        [ 17,   3,   7]],\n",
       "\n",
       "       [[113, 106, 113],\n",
       "        [ 72,  64,  71],\n",
       "        [ 55,  43,  49],\n",
       "        ...,\n",
       "        [ 76,  62,  68],\n",
       "        [121, 107, 111],\n",
       "        [198, 184, 188]]], dtype=uint8)"
      ]
     },
     "execution_count": 21,
     "metadata": {},
     "output_type": "execute_result"
    }
   ],
   "source": [
    "cv.rectangle(img, (faces[0][0],faces[0][1]), (faces[0,0]+faces[0,2], faces[0,1]+faces[0,3]), (255,0,0), 5)\n",
    "#                        x + width                        y + height                          color     thickness\n",
    "\n",
    "#drawing rectangle on original image"
   ]
  },
  {
   "cell_type": "code",
   "execution_count": null,
   "metadata": {},
   "outputs": [],
   "source": []
  }
 ],
 "metadata": {
  "kernelspec": {
   "display_name": "Python 3",
   "language": "python",
   "name": "python3"
  },
  "language_info": {
   "codemirror_mode": {
    "name": "ipython",
    "version": 3
   },
   "file_extension": ".py",
   "mimetype": "text/x-python",
   "name": "python",
   "nbconvert_exporter": "python",
   "pygments_lexer": "ipython3",
   "version": "3.8.5"
  }
 },
 "nbformat": 4,
 "nbformat_minor": 4
}
